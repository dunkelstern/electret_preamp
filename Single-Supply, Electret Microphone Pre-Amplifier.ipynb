{
 "cells": [
  {
   "cell_type": "markdown",
   "metadata": {},
   "source": [
    "# Single-Supply, Electret Microphone Pre-Amplifier\n",
    "\n",
    "All information in this document comes from the excellent Texas Instruments Reference Design for a [Single Supply Electret Microphone Pre-Amplifier](http://www.ti.com/lit/ug/tidu765/tidu765.pdf) by John Caldwell"
   ]
  },
  {
   "cell_type": "code",
   "execution_count": 1,
   "metadata": {},
   "outputs": [],
   "source": [
    "from IPython.display import display, Math, Markdown\n",
    "from math import *\n",
    "\n",
    "mega  = 1000000\n",
    "kilo  = 1000\n",
    "milli = 1/1000\n",
    "micro = 1/1000000\n",
    "nano  = 1/1000000000\n",
    "pico  = 1/1000000000000\n",
    "\n",
    "def value(value, unit, decimals=3):\n",
    "    scale = 1\n",
    "    if unit[0] == 'p':\n",
    "        scale = 1000000000000\n",
    "    elif unit[0] == 'n':\n",
    "        scale = 1000000000\n",
    "    elif unit[0] == 'u':\n",
    "        unit = r'\\mu ' + unit[1:] \n",
    "        scale = 1000000\n",
    "    elif unit[0] == 'm':\n",
    "        scale = 1000\n",
    "    elif unit[0] == 'k':\n",
    "        scale = 1/1000\n",
    "    elif unit[0] == 'M':\n",
    "        scale = 1/1000000\n",
    "    elif unit[0] == 'G':\n",
    "        scale = 1/1000000000\n",
    "    unit = unit.replace('pi', '\\\\pi')\n",
    "    unit = unit.replace('Ohm', '\\\\Omega')\n",
    "            \n",
    "    if '/' in unit:\n",
    "        nom, denom = unit.split('/', maxsplit=1)\n",
    "        result = f'{value * scale:.{decimals}f} \\\\frac{{{nom}}}{{{denom}}}'\n",
    "    else:\n",
    "        result = f'{value * scale:.{decimals}f} {unit}'\n",
    "    \n",
    "    return result\n",
    "\n",
    "\n",
    "def show(v, unit, decimals=3, formula=None):\n",
    "    if formula is not None:\n",
    "        result = \"\\\\begin{equation*}\\n\" + formula + ' = '\n",
    "    else:\n",
    "        result = '$'\n",
    "    \n",
    "    result += value(v, unit, decimals=decimals)\n",
    "    \n",
    "    if formula is not None:\n",
    "        result += \"\\n\\\\end{equation*}\"\n",
    "    else:\n",
    "        result += '$'\n",
    "    \n",
    "    display(Math(result))\n",
    "\n",
    "def fit_e_series(value):\n",
    "    e24 = [1.0, 1.1, 1.2, 1.3, 1.5, 1.6, 1.8, 2.0, 2.2, 2.4, 2.7, 3.0, 3.3, 3.6, 3.9, 4.3, 4.7, 5.1, 5.6, 6.2, 6.8, 7.5, 8.2, 9.1]\n",
    "    \n",
    "    # scale series values to magnitude\n",
    "    scale = pico\n",
    "    while value > e24[-1] * scale:\n",
    "        scale *= 10\n",
    "        if scale > mega:\n",
    "            return value\n",
    "    scaled_e = [e * scale for e in e24]\n",
    "\n",
    "    for idx, v in enumerate(scaled_e):\n",
    "        if v > value:\n",
    "            if idx == 0:\n",
    "                return scaled_e[idx]\n",
    "            if scaled_e[idx] - value < value - scaled_e[idx - 1]:\n",
    "                return scaled_e[idx]\n",
    "            else:\n",
    "                return scaled_e[idx - 1]"
   ]
  },
  {
   "cell_type": "markdown",
   "metadata": {},
   "source": [
    "The basic schematic of the pre-amplifier is shown in Figure 5. To understand its operation consider that the current in the microphone ($I_{MIC}$) has a dc component ($I_{dc}$) necessary to bias the internal JFET, and an AC component ($I_{ac}$) caused by sound waves. If the impedance of capacitor `C3` is much less than `R1` at audio frequencies, then $I_{ac}$ will flow through `C3` and not `R1`. Op amp `U1` acts as a transimpedance amplifier, and attempts to hold its inverting input at a constant voltage ($V_B$) by varying its output. The output voltage of the op amp ($V_{OA}$) will be:\n",
    "\n",
    "\\begin{equation*}\n",
    "V_{OA} = I_{ac} R_2 + V_B\n",
    "\\end{equation*}\n",
    "\n",
    "Finally, the DC component of the output signal is removed by capacitor `C5`.\n",
    "\n",
    "![Schematic](img/schematic_novalues.png)\n",
    "\n",
    "This topology was selected for a few reasons. First, it allows for single-supply operation to be easily accommodated by biasing the non-inverting input of the op amp to the mid-supply point. Second, the gain of the pre-amp is determined by `R2` but the noise gain of the op amp is determined by the ratio of `R2` to `R1`. Therefore it is possible to achieve lower noise with this topology than with a non-inverting amplifier.\n",
    "\n",
    "Finally, because capacitor `C3` is chosen to have a very low impedance at audio frequencies, the voltage at the drain of the microphone JFET varies very little, potentially reducing distortion caused by channel length modulation in the JFET"
   ]
  },
  {
   "cell_type": "code",
   "execution_count": 2,
   "metadata": {},
   "outputs": [],
   "source": [
    "operating_voltage  = 5           # V\n",
    "max_supply_current = 2.5 * milli # mA"
   ]
  },
  {
   "cell_type": "markdown",
   "metadata": {},
   "source": [
    "# Calculations\n",
    "\n",
    "### Gain Calculations\n",
    "\n",
    "The parameters of the microphone selected for this design are shown in the table below."
   ]
  },
  {
   "cell_type": "code",
   "execution_count": 3,
   "metadata": {},
   "outputs": [],
   "source": [
    "mic_sensitivity             = -46           # dBV\n",
    "mic_operating_voltage       =   2           # Vdc\n",
    "mic_max_current_consumption =   0.5 * milli # mA\n",
    "mic_impedance               =   2.2 * kilo  # kOhm\n",
    "mic_min_signal_to_noise     =  60           # dB"
   ]
  },
  {
   "cell_type": "markdown",
   "metadata": {},
   "source": [
    "The typical microphone sensitivity will be used to calculate the gain of the amplifier. First, the dB value must be converted to a linear value for these calculations. Microphone sensitivity is given as a dB value relative to $1V$, measured at $94dB$ SPL (1 Pascal). Therefore the sensitivity of the microphone in volts per Pascal of air pressure is:"
   ]
  },
  {
   "cell_type": "code",
   "execution_count": 34,
   "metadata": {},
   "outputs": [
    {
     "data": {
      "text/latex": [
       "$\\displaystyle \\begin{equation*}\n",
       "10^{\\frac{-46.000 dB}{20}} = 5.012 \\frac{mV}{Pa}\n",
       "\\end{equation*}$"
      ],
      "text/plain": [
       "<IPython.core.display.Math object>"
      ]
     },
     "metadata": {},
     "output_type": "display_data"
    }
   ],
   "source": [
    "mic_sensitivity_v_per_pa = pow(10, mic_sensitivity / 20)\n",
    "\n",
    "show(\n",
    "    mic_sensitivity_v_per_pa,\n",
    "    'mV/Pa',\n",
    "    formula=r'10^{\\frac{' + value(mic_sensitivity, 'dB') + '}{20}}'\n",
    ")"
   ]
  },
  {
   "cell_type": "markdown",
   "metadata": {},
   "source": [
    "However, because the pre-amplifier used in this reference design is a transimpedance type, this must be converted to a value of current per Pascal of air pressure. Most likely, the microphone sensitivity was measured using a $2.2k\\Omega$ impedance as indicated in the microphone specification table. The output current per Pascal of air pressure will be:"
   ]
  },
  {
   "cell_type": "code",
   "execution_count": 33,
   "metadata": {
    "scrolled": true
   },
   "outputs": [
    {
     "data": {
      "text/latex": [
       "$\\displaystyle \\begin{equation*}\n",
       "\\frac{5.012 \\frac{mV}{Pa}}{2.200 k\\Omega} = 2.278 \\frac{\\mu A}{Pa}\n",
       "\\end{equation*}$"
      ],
      "text/plain": [
       "<IPython.core.display.Math object>"
      ]
     },
     "metadata": {},
     "output_type": "display_data"
    }
   ],
   "source": [
    "mic_output_current_per_pa = mic_sensitivity_v_per_pa / mic_impedance\n",
    "\n",
    "show(\n",
    "    mic_output_current_per_pa,\n",
    "    \"uA/Pa\",\n",
    "    formula=r'\\frac{' + value(mic_sensitivity_v_per_pa, 'mV/Pa') + '}{' + value(mic_impedance, 'kOhm') + '}'\n",
    ")"
   ]
  },
  {
   "cell_type": "markdown",
   "metadata": {},
   "source": [
    "The gain calculation depends on the maximum sound pressure level expected at the microphone input. For this design, we will use $100dB$ SPL as the maximum sound pressure level expected, and map this sound pressure level to typical line level audio levels ($1.228 V_{rms}$). $100dB$ SPL is an air pressure of $2Pa$, giving a microphone output current of "
   ]
  },
  {
   "cell_type": "code",
   "execution_count": 32,
   "metadata": {},
   "outputs": [
    {
     "data": {
      "text/latex": [
       "$\\displaystyle \\begin{equation*}\n",
       "A_{max} = 4.556 \\mu A\n",
       "\\end{equation*}$"
      ],
      "text/plain": [
       "<IPython.core.display.Math object>"
      ]
     },
     "metadata": {},
     "output_type": "display_data"
    }
   ],
   "source": [
    "v_out = 1.228\n",
    "mic_max_output_current = mic_output_current_per_pa * 2\n",
    "\n",
    "show(mic_max_output_current, 'uA', formula='A_{max}')"
   ]
  },
  {
   "cell_type": "markdown",
   "metadata": {},
   "source": [
    "The gain calculation for the transimpedance amplifier is:\n",
    "\n",
    "\\begin{equation*}\n",
    "V_{out} = I_{Iac} * R_2 \\rightarrow R_2 = \\frac{V_{OUT}}{I_{IN}}\n",
    "\\end{equation*}"
   ]
  },
  {
   "cell_type": "code",
   "execution_count": 31,
   "metadata": {},
   "outputs": [
    {
     "data": {
      "text/latex": [
       "$\\displaystyle 269.520 k\\Omega_{exact}$"
      ],
      "text/plain": [
       "<IPython.core.display.Math object>"
      ]
     },
     "metadata": {},
     "output_type": "display_data"
    },
    {
     "data": {
      "text/latex": [
       "$\\displaystyle \\begin{equation*}\n",
       "R_2 = 270.0 k\\Omega_{E24}\n",
       "\\end{equation*}$"
      ],
      "text/plain": [
       "<IPython.core.display.Math object>"
      ]
     },
     "metadata": {},
     "output_type": "display_data"
    }
   ],
   "source": [
    "R2 = v_out / mic_max_output_current\n",
    "show(R2, 'kOhm_{exact}')\n",
    "\n",
    "R2 = fit_e_series(R2)\n",
    "show(R2, 'kOhm_{E24}', formula=\"R_2\", decimals=1)"
   ]
  },
  {
   "cell_type": "markdown",
   "metadata": {},
   "source": [
    "The feedback capacitor `C2` compensates for parasitic capacitance at the op amp inverting input which can cause instability. Capacitor `C2` also forms a pole with resistor `R2` in the response of the pre-amplifier. The frequency of this pole must be high enough to not affect the microphone transfer function within the audible bandwidth. For this design, a response deviation of $-0.1dB$ at $20kHz$ is acceptable. The location of the pole can be calculated using the relative gain at $20kHz$:\n",
    "\n",
    "\\begin{equation*}\n",
    "f_p = \\frac{f}{\\sqrt{(\\frac{G_0}{G_f}) ^ 2 - 1}}\n",
    "\\end{equation*}"
   ]
  },
  {
   "cell_type": "code",
   "execution_count": 30,
   "metadata": {},
   "outputs": [
    {
     "data": {
      "text/latex": [
       "$\\displaystyle \\begin{equation*}\n",
       "f_p = 31.444 kHz\n",
       "\\end{equation*}$"
      ],
      "text/plain": [
       "<IPython.core.display.Math object>"
      ]
     },
     "metadata": {},
     "output_type": "display_data"
    }
   ],
   "source": [
    "acceptable_high_freq = 16 * kilo # Hz\n",
    "acceptable_attenuation = -1.0    # dB\n",
    "\n",
    "acceptable_attenuation = pow(10, acceptable_attenuation / 20)\n",
    "freq_pole = acceptable_high_freq / sqrt(pow((1.0 / acceptable_attenuation), 2) - 1)\n",
    "\n",
    "show(freq_pole, 'kHz', formula='f_p')"
   ]
  },
  {
   "cell_type": "markdown",
   "metadata": {},
   "source": [
    "In the above equation, $G_0$ and $G_f$ are the gains at low frequency and the gain at frequency $f$ respectively. Inserting $20kHz$ for $f$, and $0.989$ ($-0.1dB$) for $G_f$, gives a pole frequency of $f_p$. The feedback capacitor value can then be calculated:\n",
    "\n",
    "\\begin{equation*}\n",
    "C_2 = \\frac{1}{2\\pi f_pR_2}\n",
    "\\end{equation*}"
   ]
  },
  {
   "cell_type": "code",
   "execution_count": 29,
   "metadata": {},
   "outputs": [
    {
     "data": {
      "text/latex": [
       "$\\displaystyle 18.747 pF_{(exact)}$"
      ],
      "text/plain": [
       "<IPython.core.display.Math object>"
      ]
     },
     "metadata": {},
     "output_type": "display_data"
    },
    {
     "data": {
      "text/latex": [
       "$\\displaystyle \\begin{equation*}\n",
       "C_2 = 18 pF_{(E24)}\n",
       "\\end{equation*}$"
      ],
      "text/plain": [
       "<IPython.core.display.Math object>"
      ]
     },
     "metadata": {},
     "output_type": "display_data"
    }
   ],
   "source": [
    "C2 = 1 / (2 * pi * freq_pole * R2)\n",
    "show(C2, 'pF_{(exact)}')\n",
    "\n",
    "C2 = fit_e_series(C2)\n",
    "show(C2, 'pF_{(E24)}', decimals=0, formula=\"C_2\")"
   ]
  },
  {
   "cell_type": "markdown",
   "metadata": {},
   "source": [
    "### Microphone Bias Resistor and Coupling Capacitor\n",
    "\n",
    "The internal JFET of the electret microphone is biased by resistor `R1`. The value of this resistor can be calculated from the desired supply voltage ($V_{CC}$), and the microphone operating voltage ($V_{MIC}$) and current consumption ($I_S$) given in the table in the beginning:\n",
    "\n",
    "\\begin{equation*}\n",
    "R_1 = \\frac{V_{CC} - V_{MIC}}{I_S}\n",
    "\\end{equation*}"
   ]
  },
  {
   "cell_type": "code",
   "execution_count": 28,
   "metadata": {},
   "outputs": [
    {
     "data": {
      "text/latex": [
       "$\\displaystyle 6.000 k\\Omega_{(exact)}$"
      ],
      "text/plain": [
       "<IPython.core.display.Math object>"
      ]
     },
     "metadata": {},
     "output_type": "display_data"
    },
    {
     "data": {
      "text/latex": [
       "$\\displaystyle \\begin{equation*}\n",
       "R_1 = 6.2 k\\Omega_{(E24)}\n",
       "\\end{equation*}$"
      ],
      "text/plain": [
       "<IPython.core.display.Math object>"
      ]
     },
     "metadata": {},
     "output_type": "display_data"
    }
   ],
   "source": [
    "R1 = (operating_voltage - mic_operating_voltage) / mic_max_current_consumption\n",
    "show(R1, 'kOhm_{(exact)}')\n",
    "\n",
    "R1 = fit_e_series(R1)\n",
    "show(R1, 'kOhm_{(E24)}', decimals=1, formula='R_1')"
   ]
  },
  {
   "cell_type": "markdown",
   "metadata": {},
   "source": [
    "A value for `R1` slightly less than the calculated value is used to accommodate variation in the supply voltage.\n",
    "\n",
    "For this pre-amplifier design, it is beneficial to have the largest value for `R1` possible for two reasons. First, the noise gain of op amp `U1` is:\n",
    "\n",
    "\\begin{equation*}\n",
    "A_N = 1 + \\frac{R_2}{R_1}\n",
    "\\end{equation*}\n",
    "\n",
    "But the signal gain is directly determined by `R2`. Therefore, increasing the value of `R1` decreases the noise gain of the op amp. Second, capacitor `C3` must be large enough that its impedance is much less than resistor `R1` at audio frequencies. Increasing the value of `R1` allows for smaller capacitances to be used for `C3`.\n",
    "\n",
    "Resistor `R1` and capacitor `C3` form a high-pass filter. The corner frequency of this filter must be low enough to not attenuate low-frequency sound waves. A $2.5Hz$ corner frequency is used to calculate the value of `C3`:\n",
    "\n",
    "\\begin{equation*}\n",
    "C_3 = \\frac{1}{2 \\pi R_1 f_c}\n",
    "\\end{equation*}\n"
   ]
  },
  {
   "cell_type": "code",
   "execution_count": 27,
   "metadata": {},
   "outputs": [
    {
     "data": {
      "text/latex": [
       "$\\displaystyle 10.268 \\mu F_{(exact)}$"
      ],
      "text/plain": [
       "<IPython.core.display.Math object>"
      ]
     },
     "metadata": {},
     "output_type": "display_data"
    },
    {
     "data": {
      "text/latex": [
       "$\\displaystyle \\begin{equation*}\n",
       "C_3 = 10.0 \\mu F_{(E24)}\n",
       "\\end{equation*}$"
      ],
      "text/plain": [
       "<IPython.core.display.Math object>"
      ]
     },
     "metadata": {},
     "output_type": "display_data"
    }
   ],
   "source": [
    "lower_corner_freq = 2.5 # Hz\n",
    "\n",
    "C3 = 1 / (2 * pi * R1 * lower_corner_freq)\n",
    "show(C3, 'uF_{(exact)}')\n",
    "\n",
    "C3 = fit_e_series(C3)\n",
    "show(C3, 'uF_{(E24)}', decimals=1, formula='C_3')"
   ]
  },
  {
   "cell_type": "markdown",
   "metadata": {},
   "source": [
    "### Op Amp Bias Network\n",
    "\n",
    "Resistors `R3` and `R5` center the op amp input and output at the midpoint between the power supplies to allow for the widest possible output signal swing. Therefore $R_3 = R_5$ for $V_B = \\frac{V_{CC}}{2}$. $100k\\Omega$ resistors were used in order to limit the power supply current drawn by this voltage divider. The current in the voltage divider will be:\n",
    "\n",
    "\\begin{equation*}\n",
    "I_D = \\frac{V_{CC}}{R_3 + R_5}\n",
    "\\end{equation*}\n"
   ]
  },
  {
   "cell_type": "code",
   "execution_count": 35,
   "metadata": {},
   "outputs": [
    {
     "data": {
      "text/latex": [
       "$\\displaystyle \\begin{equation*}\n",
       "I_D = 25 \\mu A\n",
       "\\end{equation*}$"
      ],
      "text/plain": [
       "<IPython.core.display.Math object>"
      ]
     },
     "metadata": {},
     "output_type": "display_data"
    }
   ],
   "source": [
    "R3 = 100 * kilo # Ohm\n",
    "R5 = 100 * kilo # Ohm\n",
    "\n",
    "bias_current = operating_voltage / (R3 + R5)\n",
    "\n",
    "show(bias_current, 'uA', decimals=0, formula='I_D')"
   ]
  },
  {
   "cell_type": "markdown",
   "metadata": {},
   "source": [
    "Larger resistors may be used if this current needs to be limited further. Capacitor `C6` is included to filter thermal noise created by the resistors and any noise which may be present on the power supply. The corner frequency of the low pass filter formed by `R3`, `R5`, and `C6` is:\n",
    "\n",
    "\\begin{equation*}\n",
    "f_C = \\frac{1}{2 \\pi (R_3 \\parallel R_5) C_6}\n",
    "\\end{equation*}\n",
    "\n",
    "This corner frequency should be well below the audible range (<$20Hz$) in order to prevent noise from affecting the audio performance of the design. For simplicity, a the same capacity as `C3` was selected for `C6` as this\n",
    "value was used elsewhere in the design. The resulting corner frequency is:"
   ]
  },
  {
   "cell_type": "code",
   "execution_count": 36,
   "metadata": {},
   "outputs": [
    {
     "data": {
      "text/latex": [
       "$\\displaystyle \\begin{equation*}\n",
       "f_C = 0.318 Hz\n",
       "\\end{equation*}$"
      ],
      "text/plain": [
       "<IPython.core.display.Math object>"
      ]
     },
     "metadata": {},
     "output_type": "display_data"
    }
   ],
   "source": [
    "C6 = C3\n",
    "\n",
    "corner_freq = 1 / (2 * pi * 50 * kilo * C6)\n",
    "\n",
    "show(corner_freq, 'Hz', formula='f_C')"
   ]
  },
  {
   "cell_type": "markdown",
   "metadata": {},
   "source": [
    "### AC Coupling Network\n",
    "\n",
    "Audio systems are commonly ac-coupled so that only the audio signal is passed between them, and any dc voltages are removed. Ac-coupling is accomplished by capacitor `C5`, but resistors `R4` and `R6` should also be included. Resistor `R6` provides a discharge pathway to prevent the build-up of charge on capacitor `C5`. If charge was allowed to build-up on the capacitor, it could potentially be rapidly discharged when connecting equipment to the output of the pre-amplifier. This rapid discharge can cause audible “thumps” when connecting equipment, and can also damage sensitive circuitry. A $100k\\Omega$ resistor is a typically used\n",
    "for this discharge pathway. \n",
    "\n",
    "Resistor `R4` limits the current through the capacitor in case a circuit at a different dc voltage is connected to the pre-amplifier output. This resistor may be 10’s of ohms to several hundred ohms. A value of $49.9\\Omega$ is selected to also allow the circuit to also be properly interfaced to $50\\Omega$ test equipment.\n",
    "\n",
    "The ac coupling capacitor, `C5`, forms a high-pass filter with resistor `R6`. However, `R6` will be in parallel with the input impedance of any circuitry attached to the microphone pre-amplifier. For this design we will assume that the combined impedance of `R6` and any attached circuitry will be $10k\\Omega$:\n",
    "\n",
    "\\begin{equation*}\n",
    "R_6 \\parallel R_{IN(Ext)} = 10k\\Omega\n",
    "\\end{equation*}\n",
    "\n",
    "The corner frequency should be selected to avoid excessive attenuation at low frequencies. $-0.5dB$ is considered acceptable in this design. The equation further above can be modified in order to determine the corner frequency of a high-pass filter:\n",
    "\n",
    "\\begin{equation*}\n",
    "f_C = f \\sqrt{ (\\frac{G_0}{G_f})^2 - 1}\n",
    "\\end{equation*}"
   ]
  },
  {
   "cell_type": "code",
   "execution_count": 37,
   "metadata": {},
   "outputs": [
    {
     "data": {
      "text/latex": [
       "$\\displaystyle \\begin{equation*}\n",
       "f_C = 17.466 Hz\n",
       "\\end{equation*}$"
      ],
      "text/plain": [
       "<IPython.core.display.Math object>"
      ]
     },
     "metadata": {},
     "output_type": "display_data"
    }
   ],
   "source": [
    "R4 = 49.9                     # Ohm\n",
    "R6 = 100 * kilo               # kOhm\n",
    "lowest_freq = 50              # Hz\n",
    "acceptable_attenuation = -0.5 # dB\n",
    "\n",
    "acceptable_attenuation = pow(10, acceptable_attenuation / 20)\n",
    "corner_freq = lowest_freq * sqrt(pow(1/acceptable_attenuation, 2) - 1)\n",
    "\n",
    "show(corner_freq, 'Hz', formula='f_C')"
   ]
  },
  {
   "cell_type": "markdown",
   "metadata": {},
   "source": [
    "`C5` can then be calculated to produce the desired corner frequency:\n",
    "\n",
    "\\begin{equation*}\n",
    "C_5 = \\frac{1}{2 \\pi f_C (R_6 \\parallel R_{IN(Ext)})}\n",
    "\\end{equation*}"
   ]
  },
  {
   "cell_type": "code",
   "execution_count": 38,
   "metadata": {},
   "outputs": [
    {
     "data": {
      "text/latex": [
       "$\\displaystyle 0.911 \\mu F_{(exact)}$"
      ],
      "text/plain": [
       "<IPython.core.display.Math object>"
      ]
     },
     "metadata": {},
     "output_type": "display_data"
    },
    {
     "data": {
      "text/latex": [
       "$\\displaystyle \\begin{equation*}\n",
       "C_5 = 1.0 \\mu F_{(E24)}\n",
       "\\end{equation*}$"
      ],
      "text/plain": [
       "<IPython.core.display.Math object>"
      ]
     },
     "metadata": {},
     "output_type": "display_data"
    }
   ],
   "source": [
    "C5 = 1 / (2 * pi * corner_freq * 10 * kilo) \n",
    "show(C5, 'uF_{(exact)}')\n",
    "\n",
    "C5 = fit_e_series(C5)\n",
    "show(C5, 'uF_{(E24)}', decimals=1, formula='C_5')"
   ]
  },
  {
   "cell_type": "markdown",
   "metadata": {},
   "source": [
    "## Component Selection\n",
    "\n",
    "### Passive Components\n",
    "\n",
    "1% Thick film resistors in 0603 surface mount packages were used for this design. It should be noted that no additional distortion was observed due to these resistors. Distortion due to resistor non-linearity is typically seen at higher signal levels. Capacitor `C2` must be a NP0/C0G type ceramic capacitor or film capacitor. High-K ceramic capacitors (X7R, Y5V, etc.) will produce distortion if installed at `C2`. Capacitors `C3` and `C5` are tantalum capacitors selected to avoid microphonic behavior associated with high-k ceramics. Because these capacitors are polarized, correct polarity must be observed when they are installed in the circuit. Furthermore, there is minimal ac voltage drop across these capacitors and therefore they do not contribute distortion to the signal path.\n",
    "\n",
    "The Values for all passive components are as following:"
   ]
  },
  {
   "cell_type": "code",
   "execution_count": 16,
   "metadata": {},
   "outputs": [
    {
     "data": {
      "text/markdown": [
       "| **Component** | **Value** |\n",
       "|:------------- |:---------:|\n",
       "| R1 | $6 k\\Omega$ |\n",
       "| C3 | $10.0 \\mu F$ |\n",
       "| C2 | $18.0 pF$ |\n",
       "| R2 | $270 k\\Omega$ |\n",
       "| R3 | $100 k\\Omega$ |\n",
       "| R5 | $100 k\\Omega$ |\n",
       "| C6 | $10.0 \\mu F$ |\n",
       "| R4 | $49.9 \\Omega$ |\n",
       "| C5 | $1 \\mu F$ |\n",
       "| R6 | $100 k\\Omega$ |\n"
      ],
      "text/plain": [
       "<IPython.core.display.Markdown object>"
      ]
     },
     "metadata": {},
     "output_type": "display_data"
    }
   ],
   "source": [
    "display(Markdown(\n",
    "'| **Component** | **Value** |\\n'\n",
    "'|:------------- |:---------:|\\n'\n",
    "'| R1 | $' + value(R1, \"kOhm\", decimals=0) + '$ |\\n'\n",
    "'| C3 | $' + value(C3, \"uF\",   decimals=1) + '$ |\\n'\n",
    "'| C2 | $' + value(C2, \"pF\",   decimals=1) + '$ |\\n'\n",
    "'| R2 | $' + value(R2, \"kOhm\", decimals=0) + '$ |\\n'\n",
    "'| R3 | $' + value(R3, \"kOhm\", decimals=0) + '$ |\\n'\n",
    "'| R5 | $' + value(R5, \"kOhm\", decimals=0) + '$ |\\n'\n",
    "'| C6 | $' + value(C6, \"uF\",   decimals=1) + '$ |\\n'\n",
    "'| R4 | $' + value(R4, \"Ohm\",  decimals=1) + '$ |\\n'\n",
    "'| C5 | $' + value(C5, \"uF\",   decimals=0) + '$ |\\n'\n",
    "'| R6 | $' + value(R6, \"kOhm\", decimals=0) + '$ |\\n'\n",
    "))"
   ]
  },
  {
   "cell_type": "markdown",
   "metadata": {},
   "source": [
    "### Amplifier\n",
    "\n",
    "Some basic amplifier selection criteria are given in Table 3. The maximum supply voltage, and power supply current are determined by the design requirements. A SOT23-5 package is preferred in this application to keep the overall solution size small."
   ]
  },
  {
   "cell_type": "code",
   "execution_count": 17,
   "metadata": {},
   "outputs": [
    {
     "data": {
      "text/markdown": [
       "| **Criteria** | **Value** |\n",
       "|:------------- |:---------:|\n",
       "| Max Power Supply Voltage | > $5 V$ |\n",
       "| Power Supply Current     | < $2.5 mA$ |\n",
       "| Package                  | SOT23-5 |\n",
       "| Amplifiers in Package    | 1 |\n"
      ],
      "text/plain": [
       "<IPython.core.display.Markdown object>"
      ]
     },
     "metadata": {},
     "output_type": "display_data"
    }
   ],
   "source": [
    "display(Markdown(\n",
    "'| **Criteria** | **Value** |\\n'\n",
    "'|:------------- |:---------:|\\n'\n",
    "'| Max Power Supply Voltage | > $' + value(operating_voltage, \"V\",   decimals=0) + '$ |\\n'\n",
    "'| Power Supply Current     | < $' + value(max_supply_current, \"mA\", decimals=1) + '$ |\\n'\n",
    "'| Package                  | SOT23-5 |\\n'\n",
    "'| Amplifiers in Package    | 1 |\\n'\n",
    "))"
   ]
  },
  {
   "cell_type": "markdown",
   "metadata": {},
   "source": [
    "The required slew rate of the amplifier can be determined by calculating the maximum rate of change for a sine wave at $20kHz$ and line level audio voltages ($1.228 V_{rms} \\rightarrow 1.736 V_p$):\n",
    "\n",
    "\\begin{equation*}\n",
    "R_S = 2 \\pi f A\n",
    "\\end{equation*}"
   ]
  },
  {
   "cell_type": "code",
   "execution_count": 39,
   "metadata": {},
   "outputs": [
    {
     "data": {
      "text/latex": [
       "$\\displaystyle \\begin{equation*}\n",
       "R_S = 0.218 \\frac{V}{\\mu s}\n",
       "\\end{equation*}$"
      ],
      "text/plain": [
       "<IPython.core.display.Math object>"
      ]
     },
     "metadata": {},
     "output_type": "display_data"
    }
   ],
   "source": [
    "slew_rate = 2 * pi * 20 * kilo * 1.736\n",
    "\n",
    "show(slew_rate * micro, 'V/\\mu s', formula=\"R_S\")"
   ]
  },
  {
   "cell_type": "markdown",
   "metadata": {},
   "source": [
    "As a conservative rule, an op amp should be selected with 10 times this slew rate to eliminate any possibility of slew-induced distortion, making the required slew rate: $2.182V/\\mu s$.\n",
    "\n",
    "The op amp selected should not degrade the signal to noise ratio of the microphone itself. To meet this criterion, the output noise spectral densities of the microphone and the amplifier circuit will be compared. Only broadband noise of the op amp and microphone is considered in this analysis. The signal to noise ratio in the microphone parameters table is used to determine the current noise of the microphone. Several assumptions are made about the measurement conditions of this value. It is assumed to be an A-weighted value, measured at $1Pa$ / $94dB$ SPL, with a $2.2k\\Omega$ resistor in the JFET drain. In this measurement condition, the signal current of the microphone will be $8.083\\mu A_{RMS}$, and the noise current will be:"
   ]
  },
  {
   "cell_type": "code",
   "execution_count": 40,
   "metadata": {},
   "outputs": [
    {
     "data": {
      "text/latex": [
       "$\\displaystyle \\begin{equation*}\n",
       "60 dB = 20 * log(\\frac{I_S}{I_N}) \\rightarrow I_N = \\frac{2.278 \\mu A}{10^\\frac{60 dB}{20}} = 2.278 nA_{RMS}\n",
       "\\end{equation*}$"
      ],
      "text/plain": [
       "<IPython.core.display.Math object>"
      ]
     },
     "metadata": {},
     "output_type": "display_data"
    }
   ],
   "source": [
    "noise_current = mic_output_current_per_pa / pow(10, (mic_min_signal_to_noise / 20))\n",
    "\n",
    "show(\n",
    "    noise_current,\n",
    "    'nA_{RMS}',\n",
    "    formula= \\\n",
    "    value(mic_min_signal_to_noise, 'dB', decimals=0) + \\\n",
    "    r' = 20 * log(\\frac{I_S}{I_N}) \\rightarrow I_N = \\frac{' + \\\n",
    "    value(mic_output_current_per_pa, 'uA') + \\\n",
    "    r'}{10^\\frac{' + \\\n",
    "    value(mic_min_signal_to_noise, 'dB', decimals=0) + \\\n",
    "    '}{20}}'\n",
    ")"
   ]
  },
  {
   "cell_type": "markdown",
   "metadata": {},
   "source": [
    "This RMS noise current can be converted to a current noise spectral density by dividing by the square root of bandwidth of integration. An A-weighting curve can be approximated using a $13.5kHz$ noise bandwidth"
   ]
  },
  {
   "cell_type": "code",
   "execution_count": 41,
   "metadata": {},
   "outputs": [
    {
     "data": {
      "text/latex": [
       "$\\displaystyle \\begin{equation*}\n",
       "\\frac{2.278 nA_{RMS}}{\\sqrt{13.5 kHz}} = 19.607 \\frac{pA}{\\sqrt{Hz}}\n",
       "\\end{equation*}$"
      ],
      "text/plain": [
       "<IPython.core.display.Math object>"
      ]
     },
     "metadata": {},
     "output_type": "display_data"
    }
   ],
   "source": [
    "current_noise_spectral_density = noise_current / sqrt(13.5 * kilo)\n",
    "\n",
    "show(\n",
    "    current_noise_spectral_density,\n",
    "    'pA/\\sqrt{Hz}',\n",
    "    formula=\\\n",
    "    r'\\frac{' + \\\n",
    "    value(noise_current, 'nA_{RMS}') + \\\n",
    "    r'}{\\sqrt{' + \\\n",
    "    value(13.5 * kilo, 'kHz', decimals=1) + \\\n",
    "    r'}}'\n",
    ")"
   ]
  },
  {
   "cell_type": "markdown",
   "metadata": {},
   "source": [
    "This current noise spectral density includes contributions from both the microphone and the $2.2k\\Omega$ resistor used for the measurement. The current noise contribution of the resistor is:\n",
    "\n",
    "\\begin{equation*}\n",
    "I_{nR} = \\sqrt{\\frac{4 K_B T}{R}}\n",
    "\\end{equation*}"
   ]
  },
  {
   "cell_type": "code",
   "execution_count": 42,
   "metadata": {},
   "outputs": [
    {
     "data": {
      "text/latex": [
       "$\\displaystyle \\begin{equation*}\n",
       "I_{nR} = 2.736 \\frac{pA}{\\sqrt{Hz}}\n",
       "\\end{equation*}$"
      ],
      "text/plain": [
       "<IPython.core.display.Math object>"
      ]
     },
     "metadata": {},
     "output_type": "display_data"
    }
   ],
   "source": [
    "from scipy.constants import Boltzmann, convert_temperature\n",
    "\n",
    "temperature = convert_temperature(25, 'Celsius', 'Kelvin')\n",
    "current_noise_contribution_of_r = sqrt((4 * Boltzmann * temperature) / mic_impedance)\n",
    "\n",
    "show(current_noise_contribution_of_r, 'pA/\\sqrt{Hz}', formula='I_{nR}')"
   ]
  },
  {
   "cell_type": "markdown",
   "metadata": {},
   "source": [
    "Where T is the absolute temperature in degrees Kelvin and KB is Boltzmann’s constant. Extracting this noise from the total noise value gives the current noise spectral density of the microphone:\n",
    "\n",
    "\\begin{equation*}\n",
    "I_{nMIC} = \\sqrt{I_{nT}^2 - I_{nR}^2}\n",
    "\\end{equation*}"
   ]
  },
  {
   "cell_type": "code",
   "execution_count": 43,
   "metadata": {},
   "outputs": [
    {
     "data": {
      "text/latex": [
       "$\\displaystyle \\begin{equation*}\n",
       "I_{nMIC} = 19.797 \\frac{pA}{\\sqrt{Hz}}\n",
       "\\end{equation*}$"
      ],
      "text/plain": [
       "<IPython.core.display.Math object>"
      ]
     },
     "metadata": {},
     "output_type": "display_data"
    }
   ],
   "source": [
    "total_noise_current = sqrt(pow(current_noise_spectral_density,2) + pow(current_noise_contribution_of_r, 2))\n",
    "\n",
    "show(total_noise_current, 'pA/\\sqrt{Hz}', formula='I_{nMIC}')"
   ]
  },
  {
   "cell_type": "markdown",
   "metadata": {},
   "source": [
    "The voltage noise spectral density from the microphone at the amplifier output is:\n",
    "\n",
    "\\begin{equation*}\n",
    "E_{NO(MIC)} = I_{nMIC}R_2\n",
    "\\end{equation*}"
   ]
  },
  {
   "cell_type": "code",
   "execution_count": 44,
   "metadata": {},
   "outputs": [
    {
     "data": {
      "text/latex": [
       "$\\displaystyle \\begin{equation*}\n",
       "E_{NO(MIC)} = 5.345 \\frac{\\mu V}{\\sqrt{Hz}}\n",
       "\\end{equation*}$"
      ],
      "text/plain": [
       "<IPython.core.display.Math object>"
      ]
     },
     "metadata": {},
     "output_type": "display_data"
    }
   ],
   "source": [
    "voltage_noise_spectral_density = total_noise_current * R2\n",
    "\n",
    "show(voltage_noise_spectral_density, 'uV/\\sqrt{Hz}', formula='E_{NO(MIC)}')"
   ]
  },
  {
   "cell_type": "markdown",
   "metadata": {},
   "source": [
    "To ensure that the signal-to-noise ratio of the microphone is not significantly degraded, we will specify that the output voltage noise of the amplifier should be less than 1/10<sup>th</sup> of the microphone:\n",
    "\n",
    "\\begin{equation*}\n",
    "E_{NO(AMP)} < \\frac{E_{NO(MIC)}}{10}\n",
    "\\end{equation*}\n",
    "\n",
    "The output noise spectral density of the amplifier circuit is:\n",
    "\n",
    "\\begin{equation*}\n",
    "E_{NO(AMP)} = A_N \\sqrt{E_{NI}^2 + E_{NV}^2 + E_{NR}^2}\n",
    "\\end{equation*}\n",
    "\n",
    "Where $A_N$ is the noise gain, $E_{NI}$ is the op amp current noise contribution, $E_{NV}$ is the op amp voltage noise contribution, and $E_{NR}$ is the thermal noise contribution from the feedback network. Substituting the microphone noise into the equation, the terms can be rearranged to give some selection criteria for the op amp:\n",
    "\n",
    "\\begin{equation*}\n",
    "(\\frac{E_{NO(MIC)}}{10A_N})^2 - E_{NR}^2 > E_{NI}^2 + E_{NV}^2 \\\\\n",
    "(\\frac{E_{NO(MIC)}}{10A_N})^2 - E_{NR}^2 > (I_N * R_2 \\parallel R_1)^2 + E_{NV}^2\n",
    "\\end{equation*}\n",
    "\n",
    "The terms to the left of the inequality are already set by the microphone selection and circuit design. The terms to the right of the inequality, op amp input current noise ($I_N$) and input voltage noise ($E_{NV}$), are determined by the op amp selection. Solving for the terms to the left of the inequality first will give the op amp requirements for noise:\n",
    "\n",
    "\\begin{equation*}\n",
    "A_N = 1 + \\frac{R_2}{R_1} \\\\\n",
    "E_{NR} = \\sqrt{4 K_B T (R_2 \\parallel R_1)}\n",
    "\\end{equation*}"
   ]
  },
  {
   "cell_type": "code",
   "execution_count": 45,
   "metadata": {},
   "outputs": [
    {
     "data": {
      "text/latex": [
       "$\\displaystyle \\begin{equation*}\n",
       "R_{SRC} = 6.061 k\\Omega\n",
       "\\end{equation*}$"
      ],
      "text/plain": [
       "<IPython.core.display.Math object>"
      ]
     },
     "metadata": {},
     "output_type": "display_data"
    },
    {
     "data": {
      "text/latex": [
       "$\\displaystyle \\begin{equation*}\n",
       "A_N = 44.548  \n",
       "\\end{equation*}$"
      ],
      "text/plain": [
       "<IPython.core.display.Math object>"
      ]
     },
     "metadata": {},
     "output_type": "display_data"
    },
    {
     "data": {
      "text/latex": [
       "$\\displaystyle \\begin{equation*}\n",
       "E_{NR} = 9.990 \\frac{nV}{\\sqrt{Hz}}\n",
       "\\end{equation*}$"
      ],
      "text/plain": [
       "<IPython.core.display.Math object>"
      ]
     },
     "metadata": {},
     "output_type": "display_data"
    },
    {
     "data": {
      "text/latex": [
       "$\\displaystyle 4.417e-17> (I_N * 6061)^2 + E_{NV}^2$"
      ],
      "text/plain": [
       "<IPython.core.display.Math object>"
      ]
     },
     "metadata": {},
     "output_type": "display_data"
    }
   ],
   "source": [
    "noise_gain = 1 + R2 / R1\n",
    "source_impedance = 1 / (1 / R1 + 1 / R2)\n",
    "\n",
    "thermal_noise_from_feedback = sqrt(4 * Boltzmann * temperature * source_impedance )\n",
    "opamp_noise_requirement = pow(voltage_noise_spectral_density / (10 * noise_gain), 2) - pow(thermal_noise_from_feedback, 2) \n",
    "\n",
    "show(source_impedance, 'kOhm', formula='R_{SRC}')\n",
    "show(noise_gain, ' ', formula='A_N')\n",
    "show(thermal_noise_from_feedback, 'nV/\\sqrt{Hz}', formula='E_{NR}')\n",
    "display(Math(\n",
    "    '$' + \\\n",
    "    f'{opamp_noise_requirement:.4}' + \\\n",
    "    '> (I_N * ' + f'{source_impedance:.0f}' + ')^2 + E_{NV}^2' + \\\n",
    "    '$'\n",
    "))"
   ]
  },
  {
   "cell_type": "markdown",
   "metadata": {},
   "source": [
    "Due to the high source impedance at the inverting input $R_{SRC}$, the op amp selection will be narrowed to devices with JFET or CMOS input devices which feature extremely low current noise. For this reason the input current noise term can be ignored, allowing a limit of input voltage noise spectral density to be calculated:"
   ]
  },
  {
   "cell_type": "code",
   "execution_count": 25,
   "metadata": {},
   "outputs": [
    {
     "data": {
      "text/latex": [
       "$\\displaystyle 4.417e-17> E_{NV}^2$"
      ],
      "text/plain": [
       "<IPython.core.display.Math object>"
      ]
     },
     "metadata": {},
     "output_type": "display_data"
    },
    {
     "data": {
      "text/latex": [
       "$\\displaystyle 6.646 \\frac{nV}{\\sqrt{Hz}}> E_{NV}$"
      ],
      "text/plain": [
       "<IPython.core.display.Math object>"
      ]
     },
     "metadata": {},
     "output_type": "display_data"
    }
   ],
   "source": [
    "display(Math(\n",
    "    '$' + \\\n",
    "    f'{opamp_noise_requirement:.4}' + \\\n",
    "    r'> E_{NV}^2'\n",
    "))\n",
    "\n",
    "input_voltage_noise = sqrt(opamp_noise_requirement)\n",
    "\n",
    "display(Math(\n",
    "    '$' + \\\n",
    "    value(input_voltage_noise, 'nV/\\sqrt{Hz}') + \\\n",
    "    r'> E_{NV}'\n",
    "))\n"
   ]
  },
  {
   "cell_type": "markdown",
   "metadata": {},
   "source": [
    "The OP-AMP which should be selected should fit the following requirements:"
   ]
  },
  {
   "cell_type": "code",
   "execution_count": 26,
   "metadata": {},
   "outputs": [
    {
     "data": {
      "text/markdown": [
       "| **Criteria**                | **Required** |\n",
       "|:--------------------------- |:------------:|\n",
       "| Max Power Supply Voltage    | > $5.000 V$ |\n",
       "| Power Supply Current        | < $2.500 mA$ |\n",
       "| Package                     | SOT23-5      |\n",
       "| Amplifiers in Package       | 1            |\n",
       "| Slew Rate                   | $2.182 \\frac{V}{\\mu s}$ |\n",
       "| Input Voltage Noise         | $6.646 \\frac{nV}{\\sqrt{Hz}}$ |\n",
       "| Input Current Noise         | N/A          |\n"
      ],
      "text/plain": [
       "<IPython.core.display.Markdown object>"
      ]
     },
     "metadata": {},
     "output_type": "display_data"
    }
   ],
   "source": [
    "display(Markdown(\n",
    "'| **Criteria**                | **Required** |\\n'\n",
    "'|:--------------------------- |:------------:|\\n'\n",
    "'| Max Power Supply Voltage    | > $' + value(operating_voltage, \"V\") + '$ |\\n'\n",
    "'| Power Supply Current        | < $' + value(max_supply_current, \"mA\")+ '$ |\\n'\n",
    "'| Package                     | SOT23-5      |\\n'\n",
    "'| Amplifiers in Package       | 1            |\\n'\n",
    "'| Slew Rate                   | $' + value(slew_rate * micro * 10, \"V/\\mu s\") + '$ |\\n'\n",
    "'| Input Voltage Noise         | $' + value(input_voltage_noise, \"nV/\\sqrt{Hz}\") + '$ |\\n'\n",
    "'| Input Current Noise         | N/A          |\\n'\n",
    "))"
   ]
  },
  {
   "cell_type": "code",
   "execution_count": null,
   "metadata": {},
   "outputs": [],
   "source": []
  }
 ],
 "metadata": {
  "kernelspec": {
   "display_name": "Python 3",
   "language": "python",
   "name": "python3"
  },
  "language_info": {
   "codemirror_mode": {
    "name": "ipython",
    "version": 3
   },
   "file_extension": ".py",
   "mimetype": "text/x-python",
   "name": "python",
   "nbconvert_exporter": "python",
   "pygments_lexer": "ipython3",
   "version": "3.7.7"
  }
 },
 "nbformat": 4,
 "nbformat_minor": 2
}
